{
 "cells": [
  {
   "cell_type": "code",
   "execution_count": null,
   "metadata": {
    "colab": {
     "base_uri": "https://localhost:8080/",
     "height": 547
    },
    "colab_type": "code",
    "executionInfo": {
     "elapsed": 8573,
     "status": "ok",
     "timestamp": 1589180930363,
     "user": {
      "displayName": "Wesley Deng",
      "photoUrl": "https://lh3.googleusercontent.com/a-/AOh14GgiVbp3smZOPoehTKeiqdlzZY2LL2URnqxGbv3J=s64",
      "userId": "02072648874768413201"
     },
     "user_tz": 420
    },
    "id": "etLXPSppCLDL",
    "outputId": "f976eb4c-448e-4a43-d647-562282a277fe"
   },
   "outputs": [],
   "source": [
    "%pip install nbdt"
   ]
  },
  {
   "cell_type": "code",
   "execution_count": 1,
   "metadata": {
    "colab": {},
    "colab_type": "code",
    "id": "pkW0GbpXCLDR"
   },
   "outputs": [
    {
     "name": "stdout",
     "output_type": "stream",
     "text": [
      "not enough values to unpack (expected 2, got 0)\n"
     ]
    }
   ],
   "source": [
    "from nbdt.model import SoftNBDT\n",
    "from nbdt.model import HardNBDT\n",
    "from nbdt.models import ResNet18, wrn28_10_cifar10, wrn28_10_cifar100, wrn28_10  # use wrn28_10 for TinyImagenet200\n",
    "from torchvision import transforms\n",
    "from nbdt.utils import DATASET_TO_CLASSES, load_image_from_path, maybe_install_wordnet\n",
    "from IPython.display import display\n",
    "import foolbox as fb\n",
    "import torch\n",
    "import torchvision\n",
    "#import advertorch as at\n",
    "from PIL import Image"
   ]
  },
  {
   "cell_type": "code",
   "execution_count": 3,
   "metadata": {},
   "outputs": [
    {
     "name": "stderr",
     "output_type": "stream",
     "text": [
      "Downloading: \"https://github.com/alvinwan/neural-backed-decision-trees/releases/download/0.0.1/ckpt-CIFAR10-wrn28_10_cifar10-wordnet-SoftTreeSupLoss.pth\" to /Users/wesley/.cache/torch/checkpoints/ckpt-CIFAR10-wrn28_10_cifar10-wordnet-SoftTreeSupLoss.pth\n"
     ]
    },
    {
     "data": {
      "application/vnd.jupyter.widget-view+json": {
       "model_id": "a20f802732b64effb7225b4891028c39",
       "version_major": 2,
       "version_minor": 0
      },
      "text/plain": [
       "HBox(children=(IntProgress(value=0, max=146026424), HTML(value='')))"
      ]
     },
     "metadata": {},
     "output_type": "display_data"
    },
    {
     "name": "stdout",
     "output_type": "stream",
     "text": [
      "\n"
     ]
    }
   ],
   "source": [
    "model = wrn28_10_cifar10()\n",
    "#model.linear = torch.nn.Linear(in_features=512, out_features=200, bias=True)\n",
    "model = HardNBDT(\n",
    "  pretrained=True,\n",
    "  dataset='CIFAR10',\n",
    "  arch='wrn28_10_cifar10',\n",
    "  hierarchy='wordnet',\n",
    "  model=model)\n",
    "\n",
    "transforms_c = transforms.Compose([\n",
    "  transforms.Resize(32),\n",
    "  transforms.CenterCrop(32),\n",
    "  transforms.ToTensor(),\n",
    "  transforms.Normalize((0.4914, 0.4822, 0.4465), (0.2023, 0.1994, 0.2010)),\n",
    "])"
   ]
  },
  {
   "cell_type": "code",
   "execution_count": null,
   "metadata": {},
   "outputs": [],
   "source": []
  },
  {
   "cell_type": "code",
   "execution_count": 5,
   "metadata": {
    "colab": {},
    "colab_type": "code",
    "id": "vXT_a5rjCLDW"
   },
   "outputs": [],
   "source": [
    "# Import ResNet18 pretrained on TinyImageNet. Wrapping with HardNBDT.\n",
    "model = ResNet18()\n",
    "model.linear = torch.nn.Linear(in_features=512, out_features=200, bias=True)\n",
    "model = HardNBDT(\n",
    "  pretrained=True,\n",
    "  dataset='TinyImagenet200',\n",
    "  arch='ResNet18',\n",
    "  hierarchy='wordnet',\n",
    "  model=model)\n",
    "\n",
    "transforms_t = transforms.Compose([\n",
    "  transforms.Resize(32),\n",
    "  transforms.CenterCrop(32),\n",
    "  transforms.ToTensor(),\n",
    "  transforms.Normalize([0.4802, 0.4481, 0.3975], [0.2302, 0.2265, 0.2262]),\n",
    "])"
   ]
  },
  {
   "cell_type": "code",
   "execution_count": null,
   "metadata": {
    "colab": {},
    "colab_type": "code",
    "id": "199Dvmzfkb1p"
   },
   "outputs": [],
   "source": [
    "test_0 = load_image_from_path('./test_0.jpeg')\n",
    "display(test_0)"
   ]
  },
  {
   "cell_type": "code",
   "execution_count": null,
   "metadata": {},
   "outputs": [],
   "source": [
    "test_1 = load_image_from_path('./test_1.jpeg')"
   ]
  },
  {
   "cell_type": "code",
   "execution_count": null,
   "metadata": {},
   "outputs": [],
   "source": [
    "def tree_pred(img):\n",
    "    x = transforms(img)[None]\n",
    "    outputs = model.forward_with_decisions(x)\n",
    "    print(outputs[1])"
   ]
  },
  {
   "cell_type": "code",
   "execution_count": null,
   "metadata": {
    "colab": {},
    "colab_type": "code",
    "id": "WkR51v4rmQIi"
   },
   "outputs": [],
   "source": [
    "x = transforms(test_0)[None]\n",
    "outputs = model.forward_with_decisions(x)\n",
    "_, predicted = outputs[0].max(1)\n",
    "#cls = DATASET_TO_CLASSES['CIFAR10'][predicted[0]]"
   ]
  },
  {
   "cell_type": "code",
   "execution_count": null,
   "metadata": {},
   "outputs": [],
   "source": [
    "test_1 = load_image_from_path('./test_1.jpeg')\n",
    "display(test_1)"
   ]
  },
  {
   "cell_type": "code",
   "execution_count": null,
   "metadata": {},
   "outputs": [],
   "source": [
    "tree_pred(test_0)"
   ]
  },
  {
   "cell_type": "code",
   "execution_count": null,
   "metadata": {},
   "outputs": [],
   "source": [
    "import advertorch as at\n",
    "gradient_model = at.attacks.GradientSignAttack(model)"
   ]
  },
  {
   "cell_type": "code",
   "execution_count": null,
   "metadata": {},
   "outputs": [],
   "source": [
    "tree_pred(test_1, gradient_model)"
   ]
  },
  {
   "cell_type": "code",
   "execution_count": null,
   "metadata": {},
   "outputs": [],
   "source": [
    "test_1"
   ]
  },
  {
   "cell_type": "code",
   "execution_count": null,
   "metadata": {},
   "outputs": [],
   "source": [
    "from PIL import Image, ImageFilter  \n",
    "test_1 = test_1.filter(ImageFilter.GaussianBlur(radius = 2)) "
   ]
  },
  {
   "cell_type": "code",
   "execution_count": null,
   "metadata": {},
   "outputs": [],
   "source": [
    "display(test_1)"
   ]
  },
  {
   "cell_type": "code",
   "execution_count": null,
   "metadata": {},
   "outputs": [],
   "source": [
    "tree_pred(test_1)"
   ]
  },
  {
   "cell_type": "code",
   "execution_count": null,
   "metadata": {},
   "outputs": [],
   "source": []
  }
 ],
 "metadata": {
  "colab": {
   "name": "Copy of attack_nbdts.ipynb",
   "provenance": [
    {
     "file_id": "https://github.com/alvinwan/neural-backed-decision-trees/blob/master/examples/load_pretrained_nbdts.ipynb",
     "timestamp": 1589155553877
    }
   ]
  },
  "kernelspec": {
   "display_name": "Python 3",
   "language": "python",
   "name": "python3"
  },
  "language_info": {
   "codemirror_mode": {
    "name": "ipython",
    "version": 3
   },
   "file_extension": ".py",
   "mimetype": "text/x-python",
   "name": "python",
   "nbconvert_exporter": "python",
   "pygments_lexer": "ipython3",
   "version": "3.7.3"
  }
 },
 "nbformat": 4,
 "nbformat_minor": 1
}
