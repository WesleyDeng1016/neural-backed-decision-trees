{
 "cells": [
  {
   "cell_type": "code",
   "execution_count": 1,
   "metadata": {},
   "outputs": [
    {
     "name": "stdout",
     "output_type": "stream",
     "text": [
      "not enough values to unpack (expected 2, got 0)\n"
     ]
    }
   ],
   "source": [
    "from nbdt.model import SoftNBDT\n",
    "from nbdt.model import HardNBDT\n",
    "from nbdt.models import ResNet18, wrn28_10_cifar10, wrn28_10_cifar100, wrn28_10  # use wrn28_10 for TinyImagenet200\n",
    "from torchvision import transforms\n",
    "from nbdt.utils import DATASET_TO_CLASSES, load_image_from_path, maybe_install_wordnet\n",
    "from IPython.display import display\n",
    "import foolbox as fb\n",
    "import torch\n",
    "import torchvision\n",
    "#import advertorch as at\n",
    "from PIL import Image"
   ]
  },
  {
   "cell_type": "code",
   "execution_count": 2,
   "metadata": {},
   "outputs": [],
   "source": [
    "model = ResNet18()\n",
    "model.linear = torch.nn.Linear(in_features=512, out_features=200, bias=True)\n",
    "model = HardNBDT(\n",
    "  pretrained=True,\n",
    "  dataset='TinyImagenet200',\n",
    "  arch='ResNet18',\n",
    "  hierarchy='wordnet',\n",
    "  model=model)\n",
    "\n",
    "transforms_t = transforms.Compose([\n",
    "  transforms.Resize(32),\n",
    "  transforms.CenterCrop(32),\n",
    "  transforms.ToTensor(),\n",
    "  transforms.Normalize([0.4802, 0.4481, 0.3975], [0.2302, 0.2265, 0.2262]),\n",
    "])"
   ]
  },
  {
   "cell_type": "code",
   "execution_count": 56,
   "metadata": {},
   "outputs": [
    {
     "data": {
      "image/png": "[encoded data removed]",
      "text/plain": [
       "<PIL.JpegImagePlugin.JpegImageFile image mode=RGB size=64x64 at 0x12A841710>"
      ]
     },
     "metadata": {},
     "output_type": "display_data"
    }
   ],
   "source": [
    "original = load_image_from_path('./test_1.jpeg')\n",
    "display(original)"
   ]
  },
  {
   "cell_type": "code",
   "execution_count": 4,
   "metadata": {},
   "outputs": [],
   "source": [
    "from PIL import Image, ImageFilter  \n",
    "test_1 = original.filter(ImageFilter.GaussianBlur(radius = 2)) \n",
    "test_2 = original.filter(ImageFilter.FIND_EDGES)"
   ]
  },
  {
   "cell_type": "code",
   "execution_count": 5,
   "metadata": {},
   "outputs": [
    {
     "data": {
      "image/png": "[encoded data removed]",
      "text/plain": [
       "<PIL.Image.Image image mode=RGB size=64x64 at 0x12A20ABE0>"
      ]
     },
     "metadata": {},
     "output_type": "display_data"
    }
   ],
   "source": [
    "display(test_1)"
   ]
  },
  {
   "cell_type": "code",
   "execution_count": 6,
   "metadata": {},
   "outputs": [
    {
     "data": {
      "image/png": "[encoded data removed]",
      "text/plain": [
       "<PIL.Image.Image image mode=RGB size=64x64 at 0x12A20AC18>"
      ]
     },
     "metadata": {},
     "output_type": "display_data"
    }
   ],
   "source": [
    "display(test_2)"
   ]
  },
  {
   "cell_type": "code",
   "execution_count": 8,
   "metadata": {},
   "outputs": [
    {
     "data": {
      "text/plain": [
       "(tensor([[0., 0., 0., 0., 0., 0., 0., 0., 0., 0., 0., 0., 0., 0., 0., 0., 0., 0.,\n",
       "          0., 0., 0., 0., 0., 0., 0., 0., 0., 0., 0., 0., 0., 0., 0., 0., 0., 0.,\n",
       "          0., 0., 0., 0., 0., 0., 0., 0., 0., 0., 0., 0., 0., 0., 0., 0., 0., 0.,\n",
       "          0., 0., 0., 0., 0., 0., 0., 0., 0., 0., 0., 0., 0., 0., 0., 0., 0., 0.,\n",
       "          0., 0., 0., 0., 0., 0., 0., 0., 0., 0., 0., 0., 0., 0., 0., 0., 0., 0.,\n",
       "          0., 0., 0., 0., 0., 0., 0., 0., 0., 0., 0., 0., 0., 0., 0., 0., 0., 0.,\n",
       "          0., 0., 0., 0., 0., 0., 0., 1., 0., 0., 0., 0., 0., 0., 0., 0., 0., 0.,\n",
       "          0., 0., 0., 0., 0., 0., 0., 0., 0., 0., 0., 0., 0., 0., 0., 0., 0., 0.,\n",
       "          0., 0., 0., 0., 0., 0., 0., 0., 0., 0., 0., 0., 0., 0., 0., 0., 0., 0.,\n",
       "          0., 0., 0., 0., 0., 0., 0., 0., 0., 0., 0., 0., 0., 0., 0., 0., 0., 0.,\n",
       "          0., 0., 0., 0., 0., 0., 0., 0., 0., 0., 0., 0., 0., 0., 0., 0., 0., 0.,\n",
       "          0., 0.]]),\n",
       " [[{'node': <nbdt.data.custom.Node at 0x12f0b5d68>, 'name': 'root', 'prob': 1},\n",
       "   {'node': <nbdt.data.custom.Node at 0x12eece400>,\n",
       "    'name': 'object',\n",
       "    'prob': 0.7628111243247986},\n",
       "   {'node': <nbdt.data.custom.Node at 0x12ef49c88>,\n",
       "    'name': 'whole',\n",
       "    'prob': 0.990116536617279},\n",
       "   {'node': <nbdt.data.custom.Node at 0x12ee562e8>,\n",
       "    'name': 'animal',\n",
       "    'prob': 0.3453284502029419},\n",
       "   {'node': <nbdt.data.custom.Node at 0x12ee56128>,\n",
       "    'name': 'vertebrate',\n",
       "    'prob': 0.6672031879425049},\n",
       "   {'node': <nbdt.data.custom.Node at 0x130627c88>,\n",
       "    'name': 'aquatic_bird',\n",
       "    'prob': 0.5575974583625793},\n",
       "   {'node': None, 'name': 'black_stork', 'prob': 0.9971808195114136}]])"
      ]
     },
     "execution_count": 8,
     "metadata": {},
     "output_type": "execute_result"
    }
   ],
   "source": [
    "c = transforms_t(test_1)[None]\n",
    "output_1 = model.forward_with_decisions(c)\n",
    "output_1"
   ]
  },
  {
   "cell_type": "code",
   "execution_count": 9,
   "metadata": {},
   "outputs": [
    {
     "data": {
      "text/plain": [
       "(tensor([[0., 0., 0., 0., 0., 0., 0., 0., 0., 0., 0., 0., 0., 0., 0., 0., 0., 0.,\n",
       "          0., 0., 0., 0., 0., 0., 0., 0., 0., 0., 0., 0., 0., 0., 0., 0., 0., 0.,\n",
       "          0., 0., 0., 0., 0., 0., 0., 0., 0., 0., 0., 0., 0., 0., 0., 0., 0., 0.,\n",
       "          0., 0., 0., 0., 0., 0., 0., 0., 0., 0., 0., 0., 0., 0., 0., 0., 0., 0.,\n",
       "          0., 0., 0., 0., 0., 0., 0., 0., 0., 0., 0., 0., 0., 0., 0., 0., 0., 0.,\n",
       "          0., 0., 0., 0., 0., 0., 0., 0., 0., 0., 0., 0., 0., 0., 0., 0., 0., 0.,\n",
       "          0., 0., 0., 0., 0., 0., 0., 0., 0., 0., 0., 0., 0., 0., 0., 0., 0., 0.,\n",
       "          0., 0., 0., 0., 0., 0., 0., 0., 0., 0., 0., 0., 0., 0., 0., 0., 0., 0.,\n",
       "          0., 0., 0., 0., 0., 0., 0., 0., 0., 0., 0., 0., 0., 0., 0., 0., 0., 0.,\n",
       "          0., 0., 0., 0., 0., 0., 0., 0., 0., 0., 0., 0., 0., 0., 0., 0., 0., 0.,\n",
       "          0., 0., 0., 0., 0., 0., 0., 0., 0., 0., 0., 0., 0., 0., 0., 1., 0., 0.,\n",
       "          0., 0.]]),\n",
       " [[{'node': <nbdt.data.custom.Node at 0x12f0b5d68>, 'name': 'root', 'prob': 1},\n",
       "   {'node': <nbdt.data.custom.Node at 0x12eece400>,\n",
       "    'name': 'object',\n",
       "    'prob': 0.8613556027412415},\n",
       "   {'node': <nbdt.data.custom.Node at 0x12ef49c88>,\n",
       "    'name': 'whole',\n",
       "    'prob': 0.9160231947898865},\n",
       "   {'node': <nbdt.data.custom.Node at 0x12f4c6e80>,\n",
       "    'name': 'fruit',\n",
       "    'prob': 0.7432443499565125},\n",
       "   {'node': None, 'name': 'acorn', 'prob': 0.999541163444519}]])"
      ]
     },
     "execution_count": 9,
     "metadata": {},
     "output_type": "execute_result"
    }
   ],
   "source": [
    "e = transforms_t(test_2)[None]\n",
    "output_2 = model.forward_with_decisions(e)\n",
    "output_2"
   ]
  },
  {
   "cell_type": "code",
   "execution_count": 16,
   "metadata": {},
   "outputs": [
    {
     "name": "stdout",
     "output_type": "stream",
     "text": [
      "same node:root\n",
      "same node:object\n",
      "same node:whole\n",
      "split at: whole\n"
     ]
    }
   ],
   "source": [
    "tree_1, tree_2 = output_1[1][0], output_2[1][0]\n",
    "i = 0\n",
    "while (tree_1[i]['name'] == tree_2[i]['name']):\n",
    "    print ('same node:' + tree_1[i]['name'])\n",
    "    i += 1\n",
    "    \n",
    "print('split at: ' + tree_1[i-1]['name'])"
   ]
  },
  {
   "cell_type": "code",
   "execution_count": 19,
   "metadata": {},
   "outputs": [],
   "source": [
    "prob_1, prob_2 = tree_1[i]['prob'], tree_2[i]['prob']\n",
    "traverse = len(tree_1) + len(tree_2) - 2*i"
   ]
  },
  {
   "cell_type": "code",
   "execution_count": 20,
   "metadata": {},
   "outputs": [
    {
     "name": "stdout",
     "output_type": "stream",
     "text": [
      "0.3453284502029419 0.7432443499565125 6\n"
     ]
    }
   ],
   "source": [
    "print(prob_1, prob_2, traverse)"
   ]
  },
  {
   "cell_type": "code",
   "execution_count": 25,
   "metadata": {},
   "outputs": [
    {
     "data": {
      "text/plain": [
       "tensor([[[[1.9045e+01, 7.1439e-01, 9.4294e-01,  ..., 3.2722e+00,\n",
       "           3.0794e+00, 2.4568e+00],\n",
       "          [7.5738e-01, 6.7495e-01, 4.4044e-01,  ..., 8.0437e-01,\n",
       "           2.5934e+00, 1.6680e+00],\n",
       "          [5.4587e-01, 1.3538e+00, 8.8351e-01,  ..., 9.7493e-01,\n",
       "           7.5738e-01, 3.4836e+00],\n",
       "          ...,\n",
       "          [4.9250e+00, 3.7041e-01, 3.6284e-01,  ..., 2.4979e-01,\n",
       "           2.4979e-01, 3.2722e+00],\n",
       "          [1.5970e+00, 3.4149e-01, 4.3065e-01,  ..., 2.6306e-01,\n",
       "           2.6306e-01, 3.4836e+00],\n",
       "          [9.1077e+00, 2.1059e+00, 8.2388e+00,  ..., 3.7161e+00,\n",
       "           4.5727e+00, 1.4252e+01]],\n",
       "\n",
       "         [[6.4996e+02, 9.4976e-01, 1.3203e+00,  ..., 8.9879e+00,\n",
       "           7.3768e+00, 6.1630e+00],\n",
       "          [1.0173e+00, 8.0772e-01, 5.1780e-01,  ..., 9.8264e-01,\n",
       "           4.1755e+00, 3.4126e+00],\n",
       "          [6.9532e-01, 1.7821e+00, 1.0922e+00,  ..., 1.2693e+00,\n",
       "           9.4976e-01, 1.2609e+01],\n",
       "          ...,\n",
       "          [3.8858e+01, 4.4827e-01, 4.2819e-01,  ..., 2.6946e-01,\n",
       "           2.7942e-01, 2.6285e+01],\n",
       "          [4.8355e+00, 3.8351e-01, 4.8116e-01,  ..., 2.8993e-01,\n",
       "           3.0105e-01, 3.1656e+01],\n",
       "          [5.5764e+01, 4.8355e+00, 2.6285e+01,  ..., 3.8858e+01,\n",
       "           8.4978e+01, 1.5949e+00]],\n",
       "\n",
       "         [[2.4567e+01, 1.6169e+00, 2.5163e+00,  ..., 8.2188e+01,\n",
       "           4.7577e+01, 3.7956e+01],\n",
       "          [1.7694e+00, 1.2612e+00, 7.3321e-01,  ..., 1.6169e+00,\n",
       "           1.4097e+01, 9.8674e+00],\n",
       "          [1.0855e+00, 3.6090e+00, 1.8540e+00,  ..., 2.3834e+00,\n",
       "           1.5479e+00, 2.9427e+02],\n",
       "          ...,\n",
       "          [4.7828e+02, 6.0167e-01, 5.7057e-01,  ..., 3.5098e-01,\n",
       "           3.5830e-01, 2.5145e+02],\n",
       "          [1.6129e+01, 5.0259e-01, 6.1818e-01,  ..., 3.7365e-01,\n",
       "           3.8170e-01, 1.5470e+02],\n",
       "          [8.6277e+00, 1.4097e+01, 2.9427e+02,  ..., 1.0469e+02,\n",
       "           4.4595e+01, 8.7574e-01]]]])"
      ]
     },
     "execution_count": 25,
     "metadata": {},
     "output_type": "execute_result"
    }
   ],
   "source": [
    "e ** (-2)"
   ]
  },
  {
   "cell_type": "code",
   "execution_count": 54,
   "metadata": {},
   "outputs": [],
   "source": [
    "metric = (1.2)**(-1) * (traverse/16) * abs(prob_1 - prob_2)"
   ]
  },
  {
   "cell_type": "code",
   "execution_count": 55,
   "metadata": {},
   "outputs": [
    {
     "data": {
      "text/plain": [
       "0.13565314764326267"
      ]
     },
     "execution_count": 55,
     "metadata": {},
     "output_type": "execute_result"
    }
   ],
   "source": [
    "metric"
   ]
  },
  {
   "cell_type": "code",
   "execution_count": 70,
   "metadata": {},
   "outputs": [],
   "source": [
    "def metric(img_1, img_2):\n",
    "    \n",
    "    # Get picture.\n",
    "    transformed_1 = transforms_t(img_1)[None]\n",
    "    transformed_2 = transforms_t(img_2)[None]\n",
    "    out_1 = model.forward_with_decisions(transformed_1)\n",
    "    out_2 = model.forward_with_decisions(transformed_2)\n",
    "    \n",
    "    \n",
    "    tree_1, tree_2 = out_1[1][0], out_2[1][0]\n",
    "    i = 0\n",
    "    while (tree_1[i]['name'] == tree_2[i]['name']):\n",
    "        #print ('same node:' + tree_1[i]['name'])\n",
    "        i += 1\n",
    "    \n",
    "    print('split at: ' + tree_1[i-1]['name'])\n",
    "    \n",
    "    prob_1, prob_2 = tree_1[i]['prob'], tree_2[i]['prob']\n",
    "    traverse = len(tree_1) + len(tree_2) - 2*i\n",
    "    \n",
    "    result = (1.2)**(-i) * (traverse/16) * abs(prob_1 + prob_2) # Change constant and should be normolized.\n",
    "    \n",
    "    return result"
   ]
  },
  {
   "cell_type": "code",
   "execution_count": 71,
   "metadata": {},
   "outputs": [
    {
     "name": "stdout",
     "output_type": "stream",
     "text": [
      "split at: whole\n"
     ]
    },
    {
     "data": {
      "text/plain": [
       "0.1350107400126203"
      ]
     },
     "execution_count": 71,
     "metadata": {},
     "output_type": "execute_result"
    }
   ],
   "source": [
    "metric(original, test_1)"
   ]
  },
  {
   "cell_type": "code",
   "execution_count": null,
   "metadata": {},
   "outputs": [],
   "source": []
  }
 ],
 "metadata": {
  "kernelspec": {
   "display_name": "Python 3",
   "language": "python",
   "name": "python3"
  },
  "language_info": {
   "codemirror_mode": {
    "name": "ipython",
    "version": 3
   },
   "file_extension": ".py",
   "mimetype": "text/x-python",
   "name": "python",
   "nbconvert_exporter": "python",
   "pygments_lexer": "ipython3",
   "version": "3.7.3"
  }
 },
 "nbformat": 4,
 "nbformat_minor": 2
}
